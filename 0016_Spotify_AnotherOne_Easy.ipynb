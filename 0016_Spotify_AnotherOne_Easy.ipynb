{
 "cells": [
  {
   "cell_type": "code",
   "execution_count": null,
   "id": "56a1c191",
   "metadata": {},
   "outputs": [],
   "source": [
    "def another_one(digits):\n",
    "  l=[]\n",
    "  l2=[]\n",
    "  for i in digits:\n",
    "    l.append(str(i))\n",
    "  d=int(\"\".join(l))\n",
    "  d1=str(d+1)\n",
    "  for i in d1:\n",
    "    l2.append(int(i))\n",
    "  return l2\n",
    "    "
   ]
  }
 ],
 "metadata": {
  "language_info": {
   "name": "python"
  }
 },
 "nbformat": 4,
 "nbformat_minor": 5
}
