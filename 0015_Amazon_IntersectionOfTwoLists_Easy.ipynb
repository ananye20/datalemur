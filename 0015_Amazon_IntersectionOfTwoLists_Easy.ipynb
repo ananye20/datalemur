{
 "cells": [
  {
   "cell_type": "code",
   "execution_count": null,
   "id": "ad9fd102",
   "metadata": {},
   "outputs": [],
   "source": [
    "def intersection(a, b):\n",
    "  l=[]\n",
    "  for i in a:\n",
    "    if(i in b):\n",
    "      l.append(i)\n",
    "      \n",
    "  return l"
   ]
  }
 ],
 "metadata": {
  "language_info": {
   "name": "python"
  }
 },
 "nbformat": 4,
 "nbformat_minor": 5
}
