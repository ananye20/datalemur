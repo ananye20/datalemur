{
 "cells": [
  {
   "cell_type": "code",
   "execution_count": null,
   "id": "e28ea5ee",
   "metadata": {},
   "outputs": [],
   "source": [
    "def is_looping(n):\n",
    "  seen = set()\n",
    "  while True:\n",
    "    if n in seen:\n",
    "      return True\n",
    "    if n == 1:\n",
    "      return False\n",
    "    seen.add(n)\n",
    "    n = sum(int(c)**2 for c in str(n))"
   ]
  }
 ],
 "metadata": {
  "language_info": {
   "name": "python"
  }
 },
 "nbformat": 4,
 "nbformat_minor": 5
}
