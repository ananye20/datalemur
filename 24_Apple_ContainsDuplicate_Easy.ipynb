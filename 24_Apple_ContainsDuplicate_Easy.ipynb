{
 "cells": [
  {
   "cell_type": "code",
   "execution_count": null,
   "id": "454e0bd7",
   "metadata": {},
   "outputs": [],
   "source": [
    "def contains_duplicate(input)-> bool:\n",
    "  l,c=[],0\n",
    "  for i in input:\n",
    "    if i not in l:\n",
    "      l.append(i)\n",
    "    else:\n",
    "      c+=1\n",
    "  if(c>0):\n",
    "    return True\n",
    "  else:\n",
    "    return False\n"
   ]
  }
 ],
 "metadata": {
  "language_info": {
   "name": "python"
  }
 },
 "nbformat": 4,
 "nbformat_minor": 5
}
