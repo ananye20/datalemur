{
 "cells": [
  {
   "cell_type": "code",
   "execution_count": null,
   "id": "6c7b8dfa",
   "metadata": {},
   "outputs": [],
   "source": [
    "def is_anagram(s, t):\n",
    "  ss = sorted(list(s))\n",
    "  ts = sorted(list(t))\n",
    "  if(ss==ts):\n",
    "    return True\n",
    "  else:\n",
    "    return False"
   ]
  }
 ],
 "metadata": {
  "language_info": {
   "name": "python"
  }
 },
 "nbformat": 4,
 "nbformat_minor": 5
}
