{
 "cells": [
  {
   "cell_type": "code",
   "execution_count": null,
   "id": "999fbc71",
   "metadata": {},
   "outputs": [],
   "source": [
    "import math\n",
    "def compound_interest(principal, rate, contribution, years):\n",
    "    r=rate/100\n",
    "    return round(principal*math.pow((1+rate/100),years)+contribution*((math.pow((1+r),years)-1)/r),2)"
   ]
  }
 ],
 "metadata": {
  "language_info": {
   "name": "python"
  }
 },
 "nbformat": 4,
 "nbformat_minor": 5
}
