{
 "cells": [
  {
   "cell_type": "code",
   "execution_count": null,
   "id": "b08f35bc",
   "metadata": {},
   "outputs": [],
   "source": [
    "def isPalindrome(phrase):\n",
    "  l=[]\n",
    "  for i in phrase:\n",
    "    if i.isalnum():\n",
    "      j = i.lower()\n",
    "      l.append(j)\n",
    "  if(l==l[::-1]):\n",
    "    return True\n",
    "  else:\n",
    "    return False\n",
    "      "
   ]
  }
 ],
 "metadata": {
  "language_info": {
   "name": "python"
  }
 },
 "nbformat": 4,
 "nbformat_minor": 5
}
