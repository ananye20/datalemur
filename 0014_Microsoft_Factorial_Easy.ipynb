{
 "cells": [
  {
   "cell_type": "code",
   "execution_count": null,
   "id": "aeb9bbc1",
   "metadata": {},
   "outputs": [],
   "source": [
    "def factorial(n):\n",
    "  if n <= 1:\n",
    "    return 1\n",
    "  else:\n",
    "    return n*factorial(n-1)"
   ]
  }
 ],
 "metadata": {
  "language_info": {
   "name": "python"
  }
 },
 "nbformat": 4,
 "nbformat_minor": 5
}
